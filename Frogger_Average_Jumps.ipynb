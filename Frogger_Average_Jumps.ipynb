{
  "cells": [
    {
      "cell_type": "markdown",
      "source": [
        "# Question 2: If the frog can now jump to any lilypad, forwards or backwards, with equal probability, what is the average number of jumps it takes for any given amount of lilypads?"
      ],
      "metadata": {
        "id": "vHfAwe2fbkXL"
      }
    },
    {
      "cell_type": "code",
      "execution_count": 61,
      "metadata": {
        "id": "1XwJrJcZQLDC"
      },
      "outputs": [],
      "source": [
        "import numpy as np\n",
        "import matplotlib.pyplot as plt\n",
        "import scipy.stats as stats\n",
        "import random"
      ]
    },
    {
      "cell_type": "code",
      "execution_count": 84,
      "metadata": {
        "id": "Y4k4B1plQLDE"
      },
      "outputs": [],
      "source": [
        "# maximum number of lily pads, plus one!!!!  In other words, n = 1 corresponds to zero lily\n",
        "# pads.  The point here is that all of the sums/formulas/etc. always go up to n+1, so let's\n",
        "# just rescale the problem \n",
        "\n",
        "nmax = 100"
      ]
    },
    {
      "cell_type": "code",
      "execution_count": 85,
      "metadata": {
        "id": "VgBL5U7nQLDF"
      },
      "outputs": [],
      "source": [
        "random.seed(1)"
      ]
    },
    {
      "cell_type": "code",
      "execution_count": 86,
      "metadata": {
        "id": "ybmU9l3JQLDF"
      },
      "outputs": [],
      "source": [
        "# some variables to keep track of where the frog is, how many jumps he has taken for\n",
        "# this iteration of the simulation, and how many total jumps he has taken across all\n",
        "# iterations.\n",
        "pos = 0\n",
        "jumpsum = 0\n",
        "total_jumps = 0\n",
        "\n",
        "# how many times we will run the simulation\n",
        "n_trys = 1000\n",
        "\n",
        "# create some arrays to hold various quantities, as a function of n.  We want to\n",
        "# run the simulation for n = 1 ... nmax\n",
        "x = []\n",
        "y = []\n",
        "eval = [] # this will be used for intermediate steps in the recursion method\n",
        "evalr = [] # this will be for the recursion method - it is just eval[] shifted by one, \n",
        "sigma = []"
      ]
    },
    {
      "cell_type": "code",
      "execution_count": 87,
      "metadata": {
        "id": "DP0YYgiWQLDF",
        "outputId": "ee403fdf-a2b5-4554-c9cc-8ed76f9321d8",
        "colab": {
          "base_uri": "https://localhost:8080/"
        }
      },
      "outputs": [
        {
          "output_type": "stream",
          "name": "stdout",
          "text": [
            "Theory:  1 1 1\n",
            "Expectation value for n = 1 is 1.000000 +/- 0.031623\n",
            "Theory:  2 1.5 1.5\n",
            "Expectation value for n = 2 is 2.000000 +/- 0.063246\n",
            "Theory:  3 1.8333333333333333 1.8333333333333333\n",
            "Expectation value for n = 3 is 2.245000 +/- 0.070993\n",
            "Theory:  4 2.083333333333333 2.083333333333333\n",
            "Expectation value for n = 4 is 2.366000 +/- 0.074819\n",
            "Theory:  5 2.2833333333333337 2.2833333333333337\n",
            "Expectation value for n = 5 is 2.474000 +/- 0.078235\n",
            "Theory:  6 2.4499999999999997 2.4499999999999997\n",
            "Expectation value for n = 6 is 2.471000 +/- 0.078140\n",
            "Theory:  7 2.5928571428571425 2.5928571428571425\n",
            "Expectation value for n = 7 is 2.515000 +/- 0.079531\n",
            "Theory:  8 2.7178571428571425 2.7178571428571425\n",
            "Expectation value for n = 8 is 2.533000 +/- 0.080100\n",
            "Theory:  9 2.8289682539682537 2.8289682539682537\n",
            "Expectation value for n = 9 is 2.540000 +/- 0.080322\n",
            "Theory:  10 2.928968253968254 2.928968253968254\n",
            "Expectation value for n = 10 is 2.589000 +/- 0.081871\n",
            "Theory:  11 3.0198773448773446 3.0198773448773446\n",
            "Expectation value for n = 11 is 2.612000 +/- 0.082599\n",
            "Theory:  12 3.1032106782106785 3.1032106782106785\n",
            "Expectation value for n = 12 is 2.584000 +/- 0.081713\n",
            "Theory:  13 3.1801337551337556 3.1801337551337556\n",
            "Expectation value for n = 13 is 2.570000 +/- 0.081271\n",
            "Theory:  14 3.2515623265623264 3.2515623265623264\n",
            "Expectation value for n = 14 is 2.643000 +/- 0.083579\n",
            "Theory:  15 3.3182289932289932 3.3182289932289932\n",
            "Expectation value for n = 15 is 2.628000 +/- 0.083105\n",
            "Theory:  16 3.3807289932289937 3.3807289932289937\n",
            "Expectation value for n = 16 is 2.673000 +/- 0.084528\n",
            "Theory:  17 3.439552522640758 3.439552522640758\n",
            "Expectation value for n = 17 is 2.602000 +/- 0.082282\n",
            "Theory:  18 3.4951080781963126 3.4951080781963126\n",
            "Expectation value for n = 18 is 2.643000 +/- 0.083579\n",
            "Theory:  19 3.547739657143682 3.547739657143682\n",
            "Expectation value for n = 19 is 2.627000 +/- 0.083073\n",
            "Theory:  20 3.597739657143682 3.597739657143682\n",
            "Expectation value for n = 20 is 2.649000 +/- 0.083769\n",
            "Theory:  21 3.645358704762729 3.645358704762729\n",
            "Expectation value for n = 21 is 2.616000 +/- 0.082725\n",
            "Theory:  22 3.6908132502172752 3.6908132502172752\n",
            "Expectation value for n = 22 is 2.631000 +/- 0.083200\n",
            "Theory:  23 3.73429151108684 3.73429151108684\n",
            "Expectation value for n = 23 is 2.653000 +/- 0.083895\n",
            "Theory:  24 3.7759581777535063 3.7759581777535063\n",
            "Expectation value for n = 24 is 2.662000 +/- 0.084180\n",
            "Theory:  25 3.815958177753507 3.815958177753507\n",
            "Expectation value for n = 25 is 2.629000 +/- 0.083136\n",
            "Theory:  26 3.8544197162150455 3.8544197162150455\n",
            "Expectation value for n = 26 is 2.687000 +/- 0.084970\n",
            "Theory:  27 3.8914567532520814 3.8914567532520814\n",
            "Expectation value for n = 27 is 2.679000 +/- 0.084717\n",
            "Theory:  28 3.927171038966367 3.927171038966367\n",
            "Expectation value for n = 28 is 2.649000 +/- 0.083769\n",
            "Theory:  29 3.9616537975870583 3.9616537975870583\n",
            "Expectation value for n = 29 is 2.651000 +/- 0.083832\n",
            "Theory:  30 3.9949871309203915 3.9949871309203915\n",
            "Expectation value for n = 30 is 2.686000 +/- 0.084939\n",
            "Theory:  31 4.027245195436521 4.027245195436521\n",
            "Expectation value for n = 31 is 2.661000 +/- 0.084148\n",
            "Theory:  32 4.058495195436519 4.058495195436519\n",
            "Expectation value for n = 32 is 2.641000 +/- 0.083516\n",
            "Theory:  33 4.088798225739549 4.088798225739549\n",
            "Expectation value for n = 33 is 2.699000 +/- 0.085350\n",
            "Theory:  34 4.118209990445433 4.118209990445433\n",
            "Expectation value for n = 34 is 2.695000 +/- 0.085223\n",
            "Theory:  35 4.146781419016861 4.146781419016861\n",
            "Expectation value for n = 35 is 2.666000 +/- 0.084306\n",
            "Theory:  36 4.174559196794639 4.174559196794639\n",
            "Expectation value for n = 36 is 2.685000 +/- 0.084907\n",
            "Theory:  37 4.201586223821668 4.201586223821668\n",
            "Expectation value for n = 37 is 2.691000 +/- 0.085097\n",
            "Theory:  38 4.22790201329535 4.22790201329535\n",
            "Expectation value for n = 38 is 2.692000 +/- 0.085129\n",
            "Theory:  39 4.2535430389363755 4.2535430389363755\n",
            "Expectation value for n = 39 is 2.688000 +/- 0.085002\n",
            "Theory:  40 4.278543038936376 4.278543038936376\n",
            "Expectation value for n = 40 is 2.707000 +/- 0.085603\n",
            "Theory:  41 4.302933282838815 4.302933282838815\n",
            "Expectation value for n = 41 is 2.729000 +/- 0.086299\n",
            "Theory:  42 4.3267428066483395 4.3267428066483395\n",
            "Expectation value for n = 42 is 2.706000 +/- 0.085571\n",
            "Theory:  43 4.349998620601828 4.349998620601828\n",
            "Expectation value for n = 43 is 2.666000 +/- 0.084306\n",
            "Theory:  44 4.372725893329099 4.372725893329099\n",
            "Expectation value for n = 44 is 2.702000 +/- 0.085445\n",
            "Theory:  45 4.394948115551323 4.394948115551323\n",
            "Expectation value for n = 45 is 2.700000 +/- 0.085381\n",
            "Theory:  46 4.416687245986104 4.416687245986104\n",
            "Expectation value for n = 46 is 2.650000 +/- 0.083800\n",
            "Theory:  47 4.437963841730786 4.437963841730786\n",
            "Expectation value for n = 47 is 2.697000 +/- 0.085287\n",
            "Theory:  48 4.458797175064118 4.458797175064118\n",
            "Expectation value for n = 48 is 2.693000 +/- 0.085160\n",
            "Theory:  49 4.479205338329424 4.479205338329424\n",
            "Expectation value for n = 49 is 2.670000 +/- 0.084433\n",
            "Theory:  50 4.499205338329425 4.499205338329425\n",
            "Expectation value for n = 50 is 2.619000 +/- 0.082820\n",
            "Theory:  51 4.518813181466679 4.518813181466679\n",
            "Expectation value for n = 51 is 2.696000 +/- 0.085255\n",
            "Theory:  52 4.53804395069745 4.53804395069745\n",
            "Expectation value for n = 52 is 2.645000 +/- 0.083642\n",
            "Theory:  53 4.55691187522575 4.55691187522575\n",
            "Expectation value for n = 53 is 2.684000 +/- 0.084876\n",
            "Theory:  54 4.575430393744269 4.575430393744269\n",
            "Expectation value for n = 54 is 2.669000 +/- 0.084401\n",
            "Theory:  55 4.593612211926088 4.593612211926088\n",
            "Expectation value for n = 55 is 2.686000 +/- 0.084939\n",
            "Theory:  56 4.61146935478323 4.61146935478323\n",
            "Expectation value for n = 56 is 2.735000 +/- 0.086488\n",
            "Theory:  57 4.629013214432353 4.629013214432353\n",
            "Expectation value for n = 57 is 2.764000 +/- 0.087405\n",
            "Theory:  58 4.6462545937426984 4.6462545937426984\n",
            "Expectation value for n = 58 is 2.664000 +/- 0.084243\n",
            "Theory:  59 4.66320374628507 4.66320374628507\n",
            "Expectation value for n = 59 is 2.637000 +/- 0.083389\n",
            "Theory:  60 4.679870412951738 4.679870412951738\n",
            "Expectation value for n = 60 is 2.718000 +/- 0.085951\n",
            "Theory:  61 4.696263855574688 4.696263855574688\n",
            "Expectation value for n = 61 is 2.654000 +/- 0.083927\n",
            "Theory:  62 4.712392887832753 4.712392887832753\n",
            "Expectation value for n = 62 is 2.700000 +/- 0.085381\n",
            "Theory:  63 4.728265903705768 4.728265903705768\n",
            "Expectation value for n = 63 is 2.674000 +/- 0.084559\n",
            "Theory:  64 4.7438909037057675 4.7438909037057675\n",
            "Expectation value for n = 64 is 2.703000 +/- 0.085476\n",
            "Theory:  65 4.759275519090383 4.759275519090383\n",
            "Expectation value for n = 65 is 2.708000 +/- 0.085634\n",
            "Theory:  66 4.7744270342419 4.7744270342419\n",
            "Expectation value for n = 66 is 2.680000 +/- 0.084749\n",
            "Theory:  67 4.789352407376224 4.789352407376224\n",
            "Expectation value for n = 67 is 2.667000 +/- 0.084338\n",
            "Theory:  68 4.804058289729167 4.804058289729167\n",
            "Expectation value for n = 68 is 2.706000 +/- 0.085571\n",
            "Theory:  69 4.8185510433523575 4.8185510433523575\n",
            "Expectation value for n = 69 is 2.717000 +/- 0.085919\n",
            "Theory:  70 4.832836757638071 4.832836757638071\n",
            "Expectation value for n = 70 is 2.689000 +/- 0.085034\n",
            "Theory:  71 4.846921264680324 4.846921264680324\n",
            "Expectation value for n = 71 is 2.689000 +/- 0.085034\n",
            "Theory:  72 4.860810153569213 4.860810153569213\n",
            "Expectation value for n = 72 is 2.715000 +/- 0.085856\n",
            "Theory:  73 4.874508783706197 4.874508783706197\n",
            "Expectation value for n = 73 is 2.718000 +/- 0.085951\n",
            "Theory:  74 4.888022297219716 4.888022297219716\n",
            "Expectation value for n = 74 is 2.692000 +/- 0.085129\n",
            "Theory:  75 4.901355630553048 4.901355630553048\n",
            "Expectation value for n = 75 is 2.711000 +/- 0.085729\n",
            "Theory:  76 4.914513525289888 4.914513525289888\n",
            "Expectation value for n = 76 is 2.693000 +/- 0.085160\n",
            "Theory:  77 4.927500538276903 4.927500538276903\n",
            "Expectation value for n = 77 is 2.714000 +/- 0.085824\n",
            "Theory:  78 4.940321051097415 4.940321051097415\n",
            "Expectation value for n = 78 is 2.741000 +/- 0.086678\n",
            "Theory:  79 4.952979278945517 4.952979278945517\n",
            "Expectation value for n = 79 is 2.696000 +/- 0.085255\n",
            "Theory:  80 4.965479278945515 4.965479278945515\n",
            "Expectation value for n = 80 is 2.701000 +/- 0.085413\n",
            "Theory:  81 4.977824957957861 4.977824957957861\n",
            "Expectation value for n = 81 is 2.700000 +/- 0.085381\n",
            "Theory:  82 4.990020079909082 4.990020079909082\n",
            "Expectation value for n = 82 is 2.720000 +/- 0.086014\n",
            "Theory:  83 5.0020682726801695 5.0020682726801695\n",
            "Expectation value for n = 83 is 2.696000 +/- 0.085255\n",
            "Theory:  84 5.013973034584925 5.013973034584925\n",
            "Expectation value for n = 84 is 2.682000 +/- 0.084812\n",
            "Theory:  85 5.025737740467281 5.025737740467281\n",
            "Expectation value for n = 85 is 2.731000 +/- 0.086362\n",
            "Theory:  86 5.037365647444023 5.037365647444023\n",
            "Expectation value for n = 86 is 2.732000 +/- 0.086393\n",
            "Theory:  87 5.04885990031759 5.04885990031759\n",
            "Expectation value for n = 87 is 2.684000 +/- 0.084876\n",
            "Theory:  88 5.060223536681226 5.060223536681226\n",
            "Expectation value for n = 88 is 2.705000 +/- 0.085540\n",
            "Theory:  89 5.071459491737403 5.071459491737403\n",
            "Expectation value for n = 89 is 2.701000 +/- 0.085413\n",
            "Theory:  90 5.082570602848516 5.082570602848516\n",
            "Expectation value for n = 90 is 2.705000 +/- 0.085540\n",
            "Theory:  91 5.093559613837527 5.093559613837527\n",
            "Expectation value for n = 91 is 2.713000 +/- 0.085793\n",
            "Theory:  92 5.104429179054918 5.104429179054918\n",
            "Expectation value for n = 92 is 2.645000 +/- 0.083642\n",
            "Theory:  93 5.115181867226964 5.115181867226964\n",
            "Expectation value for n = 93 is 2.701000 +/- 0.085413\n",
            "Theory:  94 5.125820165099299 5.125820165099299\n",
            "Expectation value for n = 94 is 2.701000 +/- 0.085413\n",
            "Theory:  95 5.136346480888775 5.136346480888775\n",
            "Expectation value for n = 95 is 2.776000 +/- 0.087785\n",
            "Theory:  96 5.146763147555442 5.146763147555442\n",
            "Expectation value for n = 96 is 2.684000 +/- 0.084876\n",
            "Theory:  97 5.157072425905955 5.157072425905955\n",
            "Expectation value for n = 97 is 2.787000 +/- 0.088133\n",
            "Theory:  98 5.1672765075386105 5.1672765075386105\n",
            "Expectation value for n = 98 is 2.699000 +/- 0.085350\n",
            "Theory:  99 5.177377517639622 5.177377517639622\n",
            "Expectation value for n = 99 is 2.698000 +/- 0.085318\n",
            "Theory:  100 5.187377517639619 5.187377517639619\n",
            "Expectation value for n = 100 is 2.693000 +/- 0.085160\n"
          ]
        }
      ],
      "source": [
        "for npad in range(1,nmax+1): \n",
        "\n",
        "    if (npad == 1):\n",
        "        eval.append(1)\n",
        "        evalr.append(1)\n",
        "    else:\n",
        "        sum = 0.0\n",
        "        for i in range(1,npad):\n",
        "            sum = sum + 1.0/npad*(1.0+eval[npad-i-1])\n",
        "        sum = sum + 1.0/npad\n",
        "        eval.append(sum)\n",
        "        evalr.append(eval[npad-1])\n",
        "    print(\"Theory: \",npad,eval[npad-1],evalr[npad-1])\n",
        "    \n",
        "    x.append(npad)\n",
        "    \n",
        "    end = npad\n",
        "    \n",
        "    # simulate the process of getting across the stream n_trys times\n",
        "    for j in range(n_trys):\n",
        "        \n",
        "        # main simulation loop\n",
        "        while pos < npad:\n",
        "            jump = int(random.uniform(1,end))\n",
        "            pos = pos + jump\n",
        "            jumpsum = jumpsum + 1\n",
        "        \n",
        "        # reset pos to zero, add to total jumps, reset jumpsum\n",
        "        pos = 0\n",
        "        total_jumps = total_jumps + jumpsum\n",
        "        jumpsum = 0\n",
        "    \n",
        "    #print (npad,total_jumps,n_trys)\n",
        "\n",
        "    expectation_value = total_jumps/n_trys*1.0\n",
        "    y.append(expectation_value)\n",
        "    sigma.append(expectation_value*1/np.sqrt(n_trys))\n",
        "    total_jumps = 0\n",
        "    \n",
        "    print (\"Expectation value for n = %d is %f +/- %f\" % (npad,expectation_value,expectation_value*1/np.sqrt(n_trys)))\n",
        "    "
      ]
    },
    {
      "cell_type": "code",
      "execution_count": 88,
      "metadata": {
        "id": "LXpn7iyWQLDG",
        "outputId": "3457a65e-9417-4e53-83f2-2ec8f1aba507",
        "colab": {
          "base_uri": "https://localhost:8080/",
          "height": 730
        }
      },
      "outputs": [
        {
          "output_type": "display_data",
          "data": {
            "text/plain": [
              "<Figure size 1080x864 with 1 Axes>"
            ],
            "image/png": "[encoded data removed]"
          },
          "metadata": {
            "needs_background": "light"
          }
        }
      ],
      "source": [
        "fig = plt.figure(figsize=(15,12))\n",
        "ax1 = fig.add_subplot(111)\n",
        "\n",
        "ax1.errorbar(x,y,yerr=sigma,fmt='o')\n",
        "ax1.plot(x,evalr,'r--')\n",
        "ax1.plot(x,eval,'g--')\n",
        "\n",
        "ax1.set_title(\"Frog Problem\")\n",
        "ax1.set_xlabel('N')\n",
        "ax1.set_ylabel('Expected Number of Jumps / N')\n",
        "ax1.set_xlim(0,nmax+1)\n",
        "ax1.grid(True)\n"
      ]
    },
    {
      "cell_type": "markdown",
      "source": [
        "# This is very surprising! It seems the average number of jumps levels off very quickly to around 2.7. This is much less than the previous case where the forg is limited to only jumping in the forward direction. "
      ],
      "metadata": {
        "id": "jlO1uE6zaJyo"
      }
    },
    {
      "cell_type": "code",
      "source": [
        "jumps = []\n",
        "\n",
        "for j in range(n_trys):\n",
        "        \n",
        "        # main simulation loop\n",
        "        while pos < nmax+1:\n",
        "            jump = int(random.uniform(1,nmax+1))\n",
        "            pos = pos + jump\n",
        "            jumpsum = jumpsum + 1\n",
        "        \n",
        "        jumps.append(jumpsum)\n",
        "        # reset pos to zero, add to total jumps, reset jumpsum\n",
        "        pos = 0\n",
        "        total_jumps = total_jumps + jumpsum\n",
        "        jumpsum = 0"
      ],
      "metadata": {
        "id": "zlS84UKFUiyu"
      },
      "execution_count": 89,
      "outputs": []
    },
    {
      "cell_type": "code",
      "source": [
        "plt.rcParams[\"figure.figsize\"] = (20,3)\n",
        "plt.scatter(range(n_trys), jumps)"
      ],
      "metadata": {
        "id": "brB_tEPWWLHc",
        "outputId": "d91a9f5c-a99c-401d-ab0c-0673f071e5ec",
        "colab": {
          "base_uri": "https://localhost:8080/",
          "height": 229
        }
      },
      "execution_count": 90,
      "outputs": [
        {
          "output_type": "execute_result",
          "data": {
            "text/plain": [
              "<matplotlib.collections.PathCollection at 0x7fca91f8e730>"
            ]
          },
          "metadata": {},
          "execution_count": 90
        },
        {
          "output_type": "display_data",
          "data": {
            "text/plain": [
              "<Figure size 1440x216 with 1 Axes>"
            ],
            "image/png": "[encoded data removed]"
          },
          "metadata": {
            "needs_background": "light"
          }
        }
      ]
    },
    {
      "cell_type": "markdown",
      "source": [
        "# Here we can see that for 30 lilypads, the vast majority of trials took 2 or 3 jumps to reach the end. There are some rare cases of 5,6, and even 7 jumps, but they are so few and fare between that they statistically do not contribute much. This plot supports the previous results of around 2.7 average jumps. "
      ],
      "metadata": {
        "id": "CnY7bkrqbBYz"
      }
    },
    {
      "cell_type": "code",
      "source": [],
      "metadata": {
        "id": "Q6SaVnWpbge7"
      },
      "execution_count": null,
      "outputs": []
    }
  ],
  "metadata": {
    "kernelspec": {
      "display_name": "Python 3",
      "language": "python",
      "name": "python3"
    },
    "language_info": {
      "codemirror_mode": {
        "name": "ipython",
        "version": 3
      },
      "file_extension": ".py",
      "mimetype": "text/x-python",
      "name": "python",
      "nbconvert_exporter": "python",
      "pygments_lexer": "ipython3",
      "version": "3.6.8"
    },
    "latex_envs": {
      "LaTeX_envs_menu_present": true,
      "autoclose": false,
      "autocomplete": true,
      "bibliofile": "biblio.bib",
      "cite_by": "apalike",
      "current_citInitial": 1,
      "eqLabelWithNumbers": true,
      "eqNumInitial": 1,
      "hotkeys": {
        "equation": "Ctrl-E",
        "itemize": "Ctrl-I"
      },
      "labels_anchors": false,
      "latex_user_defs": false,
      "report_style_numbering": false,
      "user_envs_cfg": false
    },
    "colab": {
      "provenance": []
    }
  },
  "nbformat": 4,
  "nbformat_minor": 0
}